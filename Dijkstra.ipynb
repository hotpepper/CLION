{
 "cells": [
  {
   "cell_type": "code",
   "execution_count": 36,
   "metadata": {
    "collapsed": true,
    "deletable": true,
    "editable": true
   },
   "outputs": [],
   "source": [
    "from DatabaseConnections import *"
   ]
  },
  {
   "cell_type": "code",
   "execution_count": 59,
   "metadata": {
    "collapsed": false,
    "deletable": true,
    "editable": true
   },
   "outputs": [
    {
     "name": "stdout",
     "output_type": "stream",
     "text": [
      "User name (CRASHDATA):shostetter\n",
      "Password (CRASHDATA):········\n"
     ]
    }
   ],
   "source": [
    "db = PostgresDb('Dotdevpgsql01.dot.nycnet', 'CRASHDATA')"
   ]
  },
  {
   "cell_type": "code",
   "execution_count": 60,
   "metadata": {
    "collapsed": false,
    "deletable": true,
    "editable": true
   },
   "outputs": [],
   "source": [
    "class Graph:\n",
    "    def __init__(self):\n",
    "        self.edges = defaultdict(list) # edges[segmentid] = [nodefrom, node]\n",
    "        self.nodes = defaultdict(dict) # nodes[node1] = {node: dist}\n",
    "        self.edge_from_nodes = defaultdict(list) # edges[(nodefrom, node)] = segmentid\n",
    "    \n",
    "    def graph(self, data):\n",
    "        for row in data:\n",
    "            street, segmentid, trafdir, nodefrom, nodeto, feet = row\n",
    "            self.edges[segmentid].append(nodefrom)\n",
    "            self.edges[segmentid].append(nodeto)\n",
    "            if trafdir == 'W': # from->to\n",
    "                self.nodes[nodefrom][nodeto] = feet\n",
    "                self.edge_from_nodes[(nodefrom, nodeto)] = segmentid\n",
    "            elif trafdir == 'A\"': # to->from\n",
    "                self.nodes[nodeto][nodefrom] = feet\n",
    "                self.edge_from_nodes[(nodeto, nodefrom)] = segmentid\n",
    "            else:\n",
    "                self.nodes[nodefrom][nodeto] = feet\n",
    "                self.nodes[nodeto][nodefrom] = feet\n",
    "                self.edge_from_nodes[(nodefrom, nodeto)] = segmentid\n",
    "                self.edge_from_nodes[(nodeto, nodefrom)] = segmentid\n",
    "\n",
    "# g = Graph()\n",
    "# g.graph(data)\n",
    "# print g.nodes['0046125M']\n",
    "# print g.edges['0175097']\n",
    "# print g.edge_from_nodes[('0046125M', '0082670M')]"
   ]
  },
  {
   "cell_type": "code",
   "execution_count": 61,
   "metadata": {
    "collapsed": false,
    "deletable": true,
    "editable": true
   },
   "outputs": [],
   "source": [
    "def dijkstra(graph,v):\n",
    "    dist_so_far = {}\n",
    "    dist_so_far[v] = (0,[v])\n",
    "    left=[v]\n",
    "    while len(left)>0:\n",
    "        w= left.pop(0)\n",
    "        weight, path =dist_so_far[w]\n",
    "        for x in graph[w]:\n",
    "            path2=path+[x]\n",
    "            weight2=min([weight,graph[w][x]])\n",
    "            if x in dist_so_far:\n",
    "                if weight2<dist_so_far[x][0]:\n",
    "                    dist_so_far[x]=(weight2,path2)\n",
    "                    if x not in left:\n",
    "                        left.append(x)\n",
    "            else:\n",
    "                dist_so_far[x]=(weight2,path2)\n",
    "                if x not in left:\n",
    "                    left.append(x)\n",
    "    return dist_so_far\n",
    "\n",
    "@timeDec\n",
    "def dijkstraPath(graph, start, end):\n",
    "    dPath = dijkstra(graph, start)\n",
    "    if end in dPath:\n",
    "        return dPath[end][1]\n",
    "    else:\n",
    "        return None"
   ]
  },
  {
   "cell_type": "code",
   "execution_count": 62,
   "metadata": {
    "collapsed": false,
    "deletable": true,
    "editable": true
   },
   "outputs": [
    {
     "name": "stdout",
     "output_type": "stream",
     "text": [
      "0023137\n",
      "0015228M\n"
     ]
    }
   ],
   "source": [
    "def get_closest_segment(db, x, y, lion='lion'):\n",
    "    seg, col = db.query(\"\"\"\n",
    "        SELECT DISTINCT segmentid from ( SELECT segmentid FROM {2}\n",
    "        WHERE rb_layer in ('R', 'B', 'N') and featuretyp in ('0', '6', 'C')\n",
    "        ORDER BY geom <-> st_setsrid(st_makepoint({0}, {1}),2263)\n",
    "        LIMIT 1) s;\"\"\".format(x,y, lion))\n",
    "    segmentid = seg[0][0]\n",
    "    return segmentid\n",
    "\n",
    "def get_start_end_node(db, x, y, lion='lion'):\n",
    "    segmentid = get_closest_segment(db, x, y, lion)\n",
    "    data, cols = db.query(\"\"\"\n",
    "        SELECT node, x, y from (\n",
    "            select nodeidfrom||nodelevelf node, xfrom::float x, yfrom::float y from {3} where segmentid = '{0}'\n",
    "            union select nodeidto||nodelevelt node, xto::float, yto::float from {3} where segmentid = '{0}') seg \n",
    "            ORDER BY st_setsrid(st_makepoint(x,y), 2263) <-> st_setsrid(st_makepoint({1}, {2}),2263)\n",
    "        LIMIT 1\n",
    "    \"\"\".format(segmentid, x, y, lion))\n",
    "    node, x, y = data[0]\n",
    "    return node\n",
    "\n",
    "x, y = 981569.692482606, 195645.001810625\n",
    "print get_closest_segment(db, x, y)\n",
    "print get_start_end_node(db, x, y)\n"
   ]
  },
  {
   "cell_type": "code",
   "execution_count": 63,
   "metadata": {
    "collapsed": true,
    "deletable": true,
    "editable": true
   },
   "outputs": [],
   "source": [
    "def get_segs_from_path(path_list):\n",
    "    segs = list()\n",
    "    s = path_list[0]\n",
    "    for node in path_list[1:]:\n",
    "        seg = g.edge_from_nodes[(s, node)]\n",
    "        if seg ==[]:\n",
    "            print s, node\n",
    "        s = node\n",
    "        segs.append(seg)\n",
    "    return segs\n",
    "\n",
    "def make_fc_from_segs(segs, fc_name='working.TEST', lion='lion'):\n",
    "    db.query(\"drop table if exists {0};\".format(fc_name))\n",
    "    db.query(\"\"\"\n",
    "        create table {0} as \n",
    "        select street, segmentid, nodeidfrom, nodeidto, geom\n",
    "        from {2}\n",
    "        where segmentid in ({1})\n",
    "    \"\"\".format(fc_name, str(segs)[1:-1], lion))\n",
    "    print 'New FC {0} to review...'.format(fc_name)   \n",
    "    \n",
    "    "
   ]
  },
  {
   "cell_type": "markdown",
   "metadata": {
    "deletable": true,
    "editable": true
   },
   "source": [
    "### Sample table for graphing"
   ]
  },
  {
   "cell_type": "code",
   "execution_count": 64,
   "metadata": {
    "collapsed": false
   },
   "outputs": [
    {
     "data": {
      "text/html": [
       "<div style=\"max-height:1000px;max-width:1500px;overflow:auto;\">\n",
       "<table border=\"1\" class=\"dataframe\">\n",
       "  <thead>\n",
       "    <tr style=\"text-align: right;\">\n",
       "      <th></th>\n",
       "      <th>street</th>\n",
       "      <th>segmentid</th>\n",
       "      <th>trafdir</th>\n",
       "      <th>nodefrom</th>\n",
       "      <th>nodeto</th>\n",
       "      <th>feet</th>\n",
       "    </tr>\n",
       "  </thead>\n",
       "  <tbody>\n",
       "    <tr>\n",
       "      <th>0</th>\n",
       "      <td>1 AVENUE</td>\n",
       "      <td>0017690</td>\n",
       "      <td>T</td>\n",
       "      <td>0012098M</td>\n",
       "      <td>0012097M</td>\n",
       "      <td>301.533481</td>\n",
       "    </tr>\n",
       "    <tr>\n",
       "      <th>1</th>\n",
       "      <td>1 AVENUE</td>\n",
       "      <td>0017692</td>\n",
       "      <td>T</td>\n",
       "      <td>0012099M</td>\n",
       "      <td>0012098M</td>\n",
       "      <td>275.179907</td>\n",
       "    </tr>\n",
       "    <tr>\n",
       "      <th>2</th>\n",
       "      <td>1 AVENUE</td>\n",
       "      <td>0017699</td>\n",
       "      <td>T</td>\n",
       "      <td>0012105M</td>\n",
       "      <td>0012099M</td>\n",
       "      <td>260.605618</td>\n",
       "    </tr>\n",
       "    <tr>\n",
       "      <th>3</th>\n",
       "      <td>1 AVENUE</td>\n",
       "      <td>0017812</td>\n",
       "      <td>T</td>\n",
       "      <td>0012165M</td>\n",
       "      <td>0012105M</td>\n",
       "      <td>259.585744</td>\n",
       "    </tr>\n",
       "    <tr>\n",
       "      <th>4</th>\n",
       "      <td>1 AVENUE</td>\n",
       "      <td>0017815</td>\n",
       "      <td>T</td>\n",
       "      <td>0012166M</td>\n",
       "      <td>0012165M</td>\n",
       "      <td>260.285818</td>\n",
       "    </tr>\n",
       "    <tr>\n",
       "      <th>5</th>\n",
       "      <td>1 AVENUE</td>\n",
       "      <td>0017817</td>\n",
       "      <td>T</td>\n",
       "      <td>0012168M</td>\n",
       "      <td>0012166M</td>\n",
       "      <td>263.179966</td>\n",
       "    </tr>\n",
       "    <tr>\n",
       "      <th>6</th>\n",
       "      <td>1 AVENUE</td>\n",
       "      <td>0017821</td>\n",
       "      <td>T</td>\n",
       "      <td>0012170M</td>\n",
       "      <td>0012168M</td>\n",
       "      <td>257.621150</td>\n",
       "    </tr>\n",
       "    <tr>\n",
       "      <th>7</th>\n",
       "      <td>1 AVENUE</td>\n",
       "      <td>0017826</td>\n",
       "      <td>T</td>\n",
       "      <td>0012174M</td>\n",
       "      <td>0012170M</td>\n",
       "      <td>259.113893</td>\n",
       "    </tr>\n",
       "    <tr>\n",
       "      <th>8</th>\n",
       "      <td>1 AVENUE</td>\n",
       "      <td>0017828</td>\n",
       "      <td>T</td>\n",
       "      <td>0012175M</td>\n",
       "      <td>0012174M</td>\n",
       "      <td>258.192743</td>\n",
       "    </tr>\n",
       "    <tr>\n",
       "      <th>9</th>\n",
       "      <td>1 AVENUE</td>\n",
       "      <td>0017928</td>\n",
       "      <td>T</td>\n",
       "      <td>0012227M</td>\n",
       "      <td>0012175M</td>\n",
       "      <td>261.700810</td>\n",
       "    </tr>\n",
       "  </tbody>\n",
       "</table>\n",
       "</div>"
      ],
      "text/plain": [
       "     street segmentid trafdir  nodefrom    nodeto        feet\n",
       "0  1 AVENUE   0017690       T  0012098M  0012097M  301.533481\n",
       "1  1 AVENUE   0017692       T  0012099M  0012098M  275.179907\n",
       "2  1 AVENUE   0017699       T  0012105M  0012099M  260.605618\n",
       "3  1 AVENUE   0017812       T  0012165M  0012105M  259.585744\n",
       "4  1 AVENUE   0017815       T  0012166M  0012165M  260.285818\n",
       "5  1 AVENUE   0017817       T  0012168M  0012166M  263.179966\n",
       "6  1 AVENUE   0017821       T  0012170M  0012168M  257.621150\n",
       "7  1 AVENUE   0017826       T  0012174M  0012170M  259.113893\n",
       "8  1 AVENUE   0017828       T  0012175M  0012174M  258.192743\n",
       "9  1 AVENUE   0017928       T  0012227M  0012175M  261.700810"
      ]
     },
     "execution_count": 64,
     "metadata": {},
     "output_type": "execute_result"
    }
   ],
   "source": [
    "query_to_table(db, \"\"\"\n",
    "    select distinct street, segmentid, trafdir, nodeidfrom||nodelevelf nodefrom, nodeidto||nodelevelt nodeto, \n",
    "    st_length(geom) as feet\n",
    "    from {0} where rb_layer in ('R', 'B', 'N') and featuretyp in ('0', '6', 'C') limit 10\"\"\".format('lion'))"
   ]
  },
  {
   "cell_type": "markdown",
   "metadata": {
    "deletable": true,
    "editable": true
   },
   "source": [
    "## Graph LION network"
   ]
  },
  {
   "cell_type": "code",
   "execution_count": 65,
   "metadata": {
    "collapsed": true,
    "deletable": true,
    "editable": true
   },
   "outputs": [],
   "source": [
    "data, cols = db.query(\"\"\"\n",
    "        select distinct street, segmentid, trafdir, nodeidfrom||nodelevelf nodefrom, nodeidto||nodelevelt nodeto, \n",
    "        st_length(geom) as feet\n",
    "        from lion where rb_layer in ('R', 'B', 'N') and featuretyp in ('0', '6', 'C')\n",
    "    \"\"\")\n",
    "g = Graph()\n",
    "g.graph(data)"
   ]
  },
  {
   "cell_type": "markdown",
   "metadata": {},
   "source": [
    "### store past paths between segments/nodes so they dont need to be rerouted\n",
    "\n",
    "should use segments to cut down on the number of possible paths... TODO"
   ]
  },
  {
   "cell_type": "code",
   "execution_count": 66,
   "metadata": {
    "collapsed": false
   },
   "outputs": [],
   "source": [
    "mapped = defaultdict(list) # mapped[(start_node, end_node)] = [path]\n",
    "\n",
    "def check_mapped(db, graph, start_cords, end_cords, lion='lion'):\n",
    "    # get nodes from cords\n",
    "    start = get_start_end_node(db, start_cords[0], start_cords[1], lion)\n",
    "    end = get_start_end_node(db, end_cords[0], end_cords[1], lion)\n",
    "    # check if path exists\n",
    "    if (start, end) in mapped.keys():\n",
    "        print 'Path found\\ndictionary ({})'.format(len(mapped.keys()))\n",
    "        return mapped[(start, end)] # if yes return path\n",
    "    else:\n",
    "        mapped[(start, end)] = dijkstraPath(graph, start, end)\n",
    "        print 'Path not found\\nAdding to dictionary ({})'.format(len( mapped.keys()))\n",
    "        return mapped[(start, end)] # if no map and add path\n"
   ]
  },
  {
   "cell_type": "code",
   "execution_count": 68,
   "metadata": {
    "collapsed": false
   },
   "outputs": [
    {
     "name": "stdout",
     "output_type": "stream",
     "text": [
      "'dijkstraPath' 2.30 sec\n",
      "Path not found\n",
      "Adding to dictionary (1)\n",
      "'test' 3.59 sec\n",
      "Path found\n",
      "dictionary (1)\n",
      "'test' 1.27 sec\n",
      "Update sucessfull\n",
      "Update sucessfull\n",
      "New FC working.TEST to review...\n"
     ]
    }
   ],
   "source": [
    "@timeDec\n",
    "def test(graph, data):\n",
    "    # sample x/y pairs Lower MN to Bklyn\n",
    "    start = (981569.692482606, 195645.001810625)\n",
    "    end = (993239.543786891, 199024.085521124)\n",
    "    path = check_mapped(db, graph, start, end, 'lion')\n",
    "    return get_segs_from_path(path)\n",
    "\n",
    "# first run\n",
    "segs = test(g.nodes, data)\n",
    "# second run 64% faster\n",
    "segs = test(g.nodes, data)\n",
    "make_fc_from_segs(segs, 'working.TEST', 'lion')\n",
    "# db.query(\"drop table if exists working.TEST;\")"
   ]
  },
  {
   "cell_type": "markdown",
   "metadata": {},
   "source": [
    "\n",
    "\n",
    "\n",
    "## Test on DCAS GPS data \n",
    "#### Single vehicle single day (small sample n =223)"
   ]
  },
  {
   "cell_type": "code",
   "execution_count": 35,
   "metadata": {
    "collapsed": false,
    "deletable": true,
    "editable": true
   },
   "outputs": [],
   "source": [
    "@timeDec\n",
    "def alttest(graph, data):\n",
    "    # sample x/y pairs Lower MN to Bklyn\n",
    "    start = (981569.692482606, 195645.001810625)\n",
    "    end = (993239.543786891, 199024.085521124)\n",
    "    # find the best fit nodes at each end\n",
    "    start_node = get_start_end_node(db, start[0], start[1])\n",
    "    end_node = get_start_end_node(db, end[0], end[1])\n",
    "    # get shortest path in nodes\n",
    "    path =  dijkstraPath(graph, start_node, end_node)\n",
    "    return get_segs_from_path(path)\n",
    "\n",
    "\n",
    "# segs = alttest(g.nodes, data)\n",
    "# make_fc_from_segs(segs, fc_name='working.TEST')\n",
    "# # db.query(\"drop table if exists working.TEST;\")"
   ]
  },
  {
   "cell_type": "markdown",
   "metadata": {
    "deletable": true,
    "editable": true
   },
   "source": [
    "<img src=\"Capture.jpg\">"
   ]
  },
  {
   "cell_type": "code",
   "execution_count": null,
   "metadata": {
    "collapsed": true,
    "deletable": true,
    "editable": true
   },
   "outputs": [],
   "source": []
  }
 ],
 "metadata": {
  "kernelspec": {
   "display_name": "Python 2",
   "language": "python",
   "name": "python2"
  },
  "language_info": {
   "codemirror_mode": {
    "name": "ipython",
    "version": 2
   },
   "file_extension": ".py",
   "mimetype": "text/x-python",
   "name": "python",
   "nbconvert_exporter": "python",
   "pygments_lexer": "ipython2",
   "version": "2.7.10"
  }
 },
 "nbformat": 4,
 "nbformat_minor": 2
}
