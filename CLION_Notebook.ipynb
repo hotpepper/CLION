{
 "cells": [
  {
   "cell_type": "code",
   "execution_count": 4,
   "metadata": {
    "collapsed": false,
    "deletable": true,
    "editable": true
   },
   "outputs": [
    {
     "name": "stdout",
     "output_type": "stream",
     "text": [
      "STARTING...\n",
      "\n"
     ]
    }
   ],
   "source": [
    "from DatabaseConnections import *\n",
    "import params\n"
   ]
  },
  {
   "cell_type": "code",
   "execution_count": 6,
   "metadata": {
    "collapsed": false,
    "deletable": true,
    "editable": true
   },
   "outputs": [
    {
     "name": "stdout",
     "output_type": "stream",
     "text": [
      "User name (RIS_TRAINING):shostetter\n",
      "Password (RIS_TRAINING):········\n"
     ]
    }
   ],
   "source": [
    "db = PostgresDb(params.DB_HOST, params.DB_NAME) "
   ]
  },
  {
   "cell_type": "code",
   "execution_count": 7,
   "metadata": {
    "collapsed": true
   },
   "outputs": [],
   "source": [
    "def reset(db, version):\n",
    "    tables = ['node_stnameft', 'lion', 'node', 'c_master_node',\n",
    "              'c_master_segs', 'C_Lion_%s' % version, 'C_Lion_Nodes_%s' % version, 'm']\n",
    "    for t in tables:\n",
    "        print 'Droping %s\\n' % t\n",
    "        db.query(\"DROP TABLE if exists %s\" % t)\n",
    "    return raw_input('Re-imported lion and nodes? <enter>\\n').upper()"
   ]
  },
  {
   "cell_type": "code",
   "execution_count": 11,
   "metadata": {
    "collapsed": false
   },
   "outputs": [
    {
     "name": "stdout",
     "output_type": "stream",
     "text": [
      "Droping node_stnameft\n",
      "\n",
      "Update sucessfull\n",
      "Droping lion\n",
      "\n",
      "Update sucessfull\n",
      "Droping node\n",
      "\n",
      "Update sucessfull\n",
      "Droping c_master_node\n",
      "\n",
      "Update sucessfull\n",
      "Droping c_master_segs\n",
      "\n",
      "Update sucessfull\n",
      "Droping C_Lion_16d\n",
      "\n",
      "Update sucessfull\n",
      "Droping C_Lion_Nodes_16d\n",
      "\n",
      "Update sucessfull\n",
      "Droping m\n",
      "\n",
      "Update sucessfull\n",
      "Re-imported lion and nodes? <enter>\n",
      "\n"
     ]
    },
    {
     "data": {
      "text/plain": [
       "''"
      ]
     },
     "execution_count": 11,
     "metadata": {},
     "output_type": "execute_result"
    }
   ],
   "source": [
    "reset(db, params.VERSION)"
   ]
  },
  {
   "cell_type": "markdown",
   "metadata": {
    "deletable": true,
    "editable": true
   },
   "source": [
    "# Preprocess \n",
    "## Set up data schema"
   ]
  },
  {
   "cell_type": "code",
   "execution_count": 14,
   "metadata": {
    "collapsed": false,
    "deletable": true,
    "editable": true
   },
   "outputs": [],
   "source": [
    "@timeDec\n",
    "def pre_process(db, lion, node, version, highways=False):\n",
    "    print 'Adding version number (%s)...\\n' % version\n",
    "    db.query(\"alter table %s add version varchar(50)\" % lion)\n",
    "    db.query(\"alter table %s add version varchar(50)\" % node)\n",
    "    db.query(\"update %s set version  = '%s'\" % (lion, version))\n",
    "    db.query(\"update %s set version  = '%s'\" % (node, version))\n",
    "    \n",
    "    print 'Adding master ID fields to tables...\\n'\n",
    "    db.query(\"alter table %s add column mft int, add column masteridfrom int, add column masteridto int\" % lion)\n",
    "    db.query(\"alter table %s add column masterid int\" % node)\n",
    "    db.query(\"alter table %s add column is_int int\" % node)\n",
    "    \n",
    "    print 'Creating node street name table (highways = %s)...\\n' % str(highways)\n",
    "    if highways:\n",
    "        db.query(\"\"\"drop table if exists node_stnameFT;\n",
    "                    create table node_stnameFT as (\n",
    "                    select node::int, street, 0 as master from (\n",
    "                        select nodeidfrom as node, street\n",
    "                        from {0}\n",
    "                            where rb_layer in ('B', 'G') and featuretyp in ('0', '6', 'C') and\n",
    "                            (nonped = 'D' or nonped is null)\n",
    "                            and street != 'UNNAMED STREET' and street not like '%{1}%'\n",
    "                        group by nodeidfrom, street\n",
    "\n",
    "                        union\n",
    "\n",
    "                        select nodeidto as node, street\n",
    "                        from {0}\n",
    "                        where rb_layer in ('B', 'G') and featuretyp in ('0', '6', 'C') and (nonped = 'D'\n",
    "                        or nonped is null)\n",
    "                        and street != 'UNNAMED STREET' and street not like '%{1}%'\n",
    "                        group by nodeidto, street\n",
    "\n",
    "                        union\n",
    "                        /* ---------- ADD BACK IN PELHAM PKWY MAIN LINE ---------- */\n",
    "                        select nodeidfrom as node, street\n",
    "                        from {0}\n",
    "                        where rb_layer in ('B', 'G') and featuretyp in ('0', '6', 'C') and\n",
    "                        (nonped = 'V' and street = 'PELHAM PARKWAY')\n",
    "                        and street != 'UNNAMED STREET' and street not like '%{1}%'\n",
    "                        group by nodeidfrom, street\n",
    "                        /* ---------- ADD BACK IN PELHAM PKWY MAIN LINE ---------- */\n",
    "                        union\n",
    "                        /* ---------- ADD BACK IN FORDHAM RD MAIN LINE ---------- */\n",
    "                        select nodeidfrom as node, street\n",
    "                        from {0}\n",
    "                        where nonped = 'V' and rb_layer in ('B', 'G') and street = 'EAST FORDHAM ROAD'\n",
    "                        group by nodeidfrom, street\n",
    "                        /* ---------- ADD BACK IN FORDHAM RD MAIN LINE ---------- */\n",
    "                        ) ft\n",
    "                    group by node, street)\n",
    "                \"\"\".format(lion, 'PED OVPS'))\n",
    "    else:\n",
    "        db.query(\"\"\"drop table if exists node_stnameFT;\n",
    "                    create table node_stnameFT as (\n",
    "                    select node::int, street, 0 as master\n",
    "                    from (\n",
    "                        select nodeidfrom as node, street\n",
    "                        from {0}\n",
    "                        where rb_layer in ('B', 'G') and featuretyp in ('0', '6', 'C')\n",
    "                        and street != 'UNNAMED STREET' and street not like '%{1}%'\n",
    "                        group by nodeidfrom, street\n",
    "\n",
    "                        union\n",
    "\n",
    "                        select nodeidto as node, street\n",
    "                        from {0}\n",
    "                        where rb_layer in ('B', 'G') and featuretyp in ('0', '6', 'C')\n",
    "                        and street != 'UNNAMED STREET' and street not like '%{1}%'\n",
    "                        group by nodeidto, street\n",
    "                        ) ft\n",
    "                    group by node, street)\n",
    "                \"\"\".format(lion, 'PED OVPS'))\n"
   ]
  },
  {
   "cell_type": "code",
   "execution_count": null,
   "metadata": {
    "collapsed": false,
    "deletable": true,
    "editable": true
   },
   "outputs": [
    {
     "name": "stdout",
     "output_type": "stream",
     "text": [
      "Adding version number (16d)...\n",
      "\n",
      "Query Failed:\n",
      "\n",
      "\talter table lion add version varchar(50)\n",
      "Query Failed:\n",
      "\n",
      "\talter table node add version varchar(50)\n",
      "Update sucessfull\n"
     ]
    }
   ],
   "source": [
    "pre_process(db, params.LION, params.NODE, params.VERSION, params.HIGHWAYS)"
   ]
  },
  {
   "cell_type": "code",
   "execution_count": null,
   "metadata": {
    "collapsed": true,
    "deletable": true,
    "editable": true
   },
   "outputs": [],
   "source": []
  }
 ],
 "metadata": {
  "kernelspec": {
   "display_name": "Python 2",
   "language": "python",
   "name": "python2"
  },
  "language_info": {
   "codemirror_mode": {
    "name": "ipython",
    "version": 2
   },
   "file_extension": ".py",
   "mimetype": "text/x-python",
   "name": "python",
   "nbconvert_exporter": "python",
   "pygments_lexer": "ipython2",
   "version": "2.7.10"
  }
 },
 "nbformat": 4,
 "nbformat_minor": 2
}
