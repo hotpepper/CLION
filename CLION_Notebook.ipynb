{
 "cells": [
  {
   "cell_type": "code",
   "execution_count": 1,
   "metadata": {
    "collapsed": false,
    "deletable": true,
    "editable": true
   },
   "outputs": [
    {
     "name": "stdout",
     "output_type": "stream",
     "text": [
      "STARTING...\n",
      "\n"
     ]
    }
   ],
   "source": [
    "from DatabaseConnections import *\n",
    "import params\n",
    "import pandas as pd\n",
    "import cPickle as cpickle\n",
    "import os\n",
    "import csv\n",
    "from IPython.display import clear_output\n",
    "# clear_output()"
   ]
  },
  {
   "cell_type": "code",
   "execution_count": 2,
   "metadata": {
    "collapsed": false,
    "deletable": true,
    "editable": true
   },
   "outputs": [
    {
     "name": "stdout",
     "output_type": "stream",
     "text": [
      "User name (RIS_TRAINING):shostetter\n",
      "Password (RIS_TRAINING):········\n"
     ]
    }
   ],
   "source": [
    "db = PostgresDb(params.DB_HOST, params.DB_NAME) "
   ]
  },
  {
   "cell_type": "code",
   "execution_count": 3,
   "metadata": {
    "collapsed": true,
    "deletable": true,
    "editable": true
   },
   "outputs": [],
   "source": [
    "@timeDec\n",
    "def save_dictionaries(io='OUT'):\n",
    "    \"\"\"write out the data in dictionaries, may only be useful for testing...\"\"\"\n",
    "    if io == 'OUT':\n",
    "        cpickle.dump(params.nodeStreetNames, open(os.path.join(params.FOLDER, \"nodeStreetNames.p\"), \"wb\"))\n",
    "        cpickle.dump(params.nodeIsIntersection, open(os.path.join(params.FOLDER, \"nodeIsIntersection.p\"), \"wb\"))\n",
    "        cpickle.dump(params.nodeNextSteps, open(os.path.join(params.FOLDER, \"nodeNextSteps.p\"), \"wb\"))\n",
    "        cpickle.dump(params.segmentBlocks, open(os.path.join(params.FOLDER, \"segmentBlocks.p\"), \"wb\"))\n",
    "        cpickle.dump(params.node_master, open(os.path.join(params.FOLDER, \"nodeMaster.p\"), \"wb\"))\n",
    "        cpickle.dump(params.clusterIntersections, open(os.path.join(params.FOLDER, \"clusterIntersections.p\"), \"wb\"))\n",
    "        cpickle.dump(params.streetSet, open(os.path.join(params.FOLDER, \"streetSet.p\"), \"wb\"))\n",
    "        cpickle.dump(params.mft1Dict, open(os.path.join(params.FOLDER, \"mft1Dict.p\"), \"wb\"))\n",
    "        cpickle.dump(params.altGraph, open(os.path.join(params.FOLDER, \"altGraph.p\"), \"wb\"))\n",
    "        cpickle.dump(params.mfts, open(os.path.join(params.FOLDER, \"mfts.p\"), \"wb\"))\n",
    "        cpickle.dump(params.coordFromMaster, open(os.path.join(params.FOLDER, \"coordFromMaster.p\"), \"wb\"))\n",
    "    else:\n",
    "        d1 = cpickle.load(open(os.path.join(params.FOLDER, \"nodeStreetNames.p\"), \"rb\"))\n",
    "        d2 = cpickle.load(open(os.path.join(params.FOLDER, \"nodeIsIntersection.p\"), \"rb\"))\n",
    "        d3 = cpickle.load(open(os.path.join(params.FOLDER, \"nodeNextSteps.p\"), \"rb\"))\n",
    "        d4 = cpickle.load(open(os.path.join(params.FOLDER, \"segmentBlocks.p\"), \"rb\"))\n",
    "        d5 = cpickle.load(open(os.path.join(params.FOLDER, \"nodeMaster.p\"), \"rb\"))\n",
    "        d6 = cpickle.load(open(os.path.join(params.FOLDER, \"clusterIntersections.p\"), \"rb\"))\n",
    "        d7 = cpickle.load(open(os.path.join(params.FOLDER, \"streetSet.p\"), \"rb\"))\n",
    "        d8 = cpickle.load(open(os.path.join(params.FOLDER, \"mft1Dict.p\"), \"rb\"))\n",
    "        d9 = cpickle.load(open(os.path.join(params.FOLDER, \"altGraph.p\"), \"rb\"))\n",
    "        d10 = cpickle.load(open(os.path.join(params.FOLDER, \"mfts.p\"), \"rb\"))\n",
    "        d11 = cpickle.load(open(os.path.join(params.FOLDER, \"coordFromMaster.p\"), \"rb\"))\n",
    "        return d1, d2, d3, d4, d5, d6, d7, d8, d9, d10, d11"
   ]
  },
  {
   "cell_type": "code",
   "execution_count": 4,
   "metadata": {
    "collapsed": true,
    "deletable": true,
    "editable": true
   },
   "outputs": [],
   "source": [
    "def reset(db, version):\n",
    "    tables = ['node_stnameft', 'lion', 'node', 'c_master_node',\n",
    "              'c_master_segs', 'C_Lion_%s' % version, 'C_Lion_Nodes_%s' % version, 'm']\n",
    "    for t in tables:\n",
    "        print 'Droping %s\\n' % t\n",
    "        db.query(\"DROP TABLE if exists %s\" % t)\n",
    "    return raw_input('Re-imported lion and nodes? <enter>\\n').upper()"
   ]
  },
  {
   "cell_type": "code",
   "execution_count": 5,
   "metadata": {
    "collapsed": false,
    "deletable": true,
    "editable": true
   },
   "outputs": [
    {
     "name": "stdout",
     "output_type": "stream",
     "text": [
      "Droping node_stnameft\n",
      "\n",
      "Update sucessfull\n",
      "Droping lion\n",
      "\n",
      "Update sucessfull\n",
      "Droping node\n",
      "\n",
      "Update sucessfull\n",
      "Droping c_master_node\n",
      "\n",
      "Update sucessfull\n",
      "Droping c_master_segs\n",
      "\n",
      "Update sucessfull\n",
      "Droping C_Lion_16d\n",
      "\n",
      "Update sucessfull\n",
      "Droping C_Lion_Nodes_16d\n",
      "\n",
      "Update sucessfull\n",
      "Droping m\n",
      "\n",
      "Update sucessfull\n",
      "Re-imported lion and nodes? <enter>\n",
      "\n"
     ]
    },
    {
     "data": {
      "text/plain": [
       "''"
      ]
     },
     "execution_count": 5,
     "metadata": {},
     "output_type": "execute_result"
    }
   ],
   "source": [
    "# clean out old versions of lion ?\n",
    "\n",
    "reset(db, params.VERSION)\n"
   ]
  },
  {
   "cell_type": "markdown",
   "metadata": {
    "deletable": true,
    "editable": true
   },
   "source": [
    "# Preprocess \n",
    "## Set up data schema"
   ]
  },
  {
   "cell_type": "code",
   "execution_count": 8,
   "metadata": {
    "collapsed": false,
    "deletable": true,
    "editable": true
   },
   "outputs": [
    {
     "name": "stdout",
     "output_type": "stream",
     "text": [
      "Adding version number (16d)...\n",
      "\n",
      "Update sucessfull\n",
      "Update sucessfull\n",
      "Update sucessfull\n",
      "Update sucessfull\n",
      "Adding master ID fields to tables...\n",
      "\n",
      "Update sucessfull\n",
      "Update sucessfull\n",
      "Update sucessfull\n",
      "Creating node street name table (highways = True)...\n",
      "\n",
      "Update sucessfull\n",
      "'pre_process' 59.67 sec\n"
     ]
    }
   ],
   "source": [
    "@timeDec\n",
    "def pre_process(db, lion, node, version, highways=False):\n",
    "    print 'Adding version number (%s)...\\n' % version\n",
    "    db.query(\"alter table %s add version varchar(50)\" % lion)\n",
    "    db.query(\"alter table %s add version varchar(50)\" % node)\n",
    "    db.query(\"update %s set version  = '%s'\" % (lion, version))\n",
    "    db.query(\"update %s set version  = '%s'\" % (node, version))\n",
    "    \n",
    "    print 'Adding master ID fields to tables...\\n'\n",
    "    db.query(\"alter table %s add column mft int, add column masteridfrom int, add column masteridto int\" % lion)\n",
    "    db.query(\"alter table %s add column masterid int\" % node)\n",
    "    db.query(\"alter table %s add column is_int int\" % node)\n",
    "    \n",
    "    print 'Creating node street name table (highways = %s)...\\n' % str(highways)\n",
    "    if highways:\n",
    "        db.query(\"\"\"drop table if exists node_stnameFT;\n",
    "                    create table node_stnameFT as (\n",
    "                    select node::int, street, 0 as master from (\n",
    "                        select nodeidfrom as node, street\n",
    "                        from {0}\n",
    "                            where rb_layer in ('B', 'G') and featuretyp in ('0', '6', 'C') and\n",
    "                            (nonped = 'D' or nonped is null)\n",
    "                            and street != 'UNNAMED STREET' and street not like '%{1}%'\n",
    "                        group by nodeidfrom, street\n",
    "\n",
    "                        union\n",
    "\n",
    "                        select nodeidto as node, street\n",
    "                        from {0}\n",
    "                        where rb_layer in ('B', 'G') and featuretyp in ('0', '6', 'C') and (nonped = 'D'\n",
    "                        or nonped is null)\n",
    "                        and street != 'UNNAMED STREET' and street not like '%{1}%'\n",
    "                        group by nodeidto, street\n",
    "\n",
    "                        union\n",
    "                        /* ---------- ADD BACK IN PELHAM PKWY MAIN LINE ---------- */\n",
    "                        select nodeidfrom as node, street\n",
    "                        from {0}\n",
    "                        where rb_layer in ('B', 'G') and featuretyp in ('0', '6', 'C') and\n",
    "                        (nonped = 'V' and street = 'PELHAM PARKWAY')\n",
    "                        and street != 'UNNAMED STREET' and street not like '%{1}%'\n",
    "                        group by nodeidfrom, street\n",
    "                        /* ---------- ADD BACK IN PELHAM PKWY MAIN LINE ---------- */\n",
    "                        union\n",
    "                        /* ---------- ADD BACK IN FORDHAM RD MAIN LINE ---------- */\n",
    "                        select nodeidfrom as node, street\n",
    "                        from {0}\n",
    "                        where nonped = 'V' and rb_layer in ('B', 'G') and street = 'EAST FORDHAM ROAD'\n",
    "                        group by nodeidfrom, street\n",
    "                        /* ---------- ADD BACK IN FORDHAM RD MAIN LINE ---------- */\n",
    "                        ) ft\n",
    "                    group by node, street)\n",
    "                \"\"\".format(lion, 'PED OVPS'))\n",
    "    else:\n",
    "        db.query(\"\"\"drop table if exists node_stnameFT;\n",
    "                    create table node_stnameFT as (\n",
    "                    select node::int, street, 0 as master\n",
    "                    from (\n",
    "                        select nodeidfrom as node, street\n",
    "                        from {0}\n",
    "                        where rb_layer in ('B', 'G') and featuretyp in ('0', '6', 'C')\n",
    "                        and street != 'UNNAMED STREET' and street not like '%{1}%'\n",
    "                        group by nodeidfrom, street\n",
    "\n",
    "                        union\n",
    "\n",
    "                        select nodeidto as node, street\n",
    "                        from {0}\n",
    "                        where rb_layer in ('B', 'G') and featuretyp in ('0', '6', 'C')\n",
    "                        and street != 'UNNAMED STREET' and street not like '%{1}%'\n",
    "                        group by nodeidto, street\n",
    "                        ) ft\n",
    "                    group by node, street)\n",
    "                \"\"\".format(lion, 'PED OVPS'))\n",
    "\n",
    "        \n",
    "# Run preprocess\n",
    "pre_process(db, params.LION, params.NODE, params.VERSION, params.HIGHWAYS)\n",
    "# Check resutls\n"
   ]
  },
  {
   "cell_type": "code",
   "execution_count": 9,
   "metadata": {
    "collapsed": false,
    "deletable": true,
    "editable": true
   },
   "outputs": [
    {
     "data": {
      "text/html": [
       "<div style=\"max-height:1000px;max-width:1500px;overflow:auto;\">\n",
       "<table border=\"1\" class=\"dataframe\">\n",
       "  <thead>\n",
       "    <tr style=\"text-align: right;\">\n",
       "      <th></th>\n",
       "      <th>node</th>\n",
       "      <th>street</th>\n",
       "      <th>master</th>\n",
       "    </tr>\n",
       "  </thead>\n",
       "  <tbody>\n",
       "    <tr>\n",
       "      <th>0</th>\n",
       "      <td>13</td>\n",
       "      <td>SHORE ROAD</td>\n",
       "      <td>0</td>\n",
       "    </tr>\n",
       "    <tr>\n",
       "      <th>1</th>\n",
       "      <td>14</td>\n",
       "      <td>PERTH AMBOY PLACE</td>\n",
       "      <td>0</td>\n",
       "    </tr>\n",
       "    <tr>\n",
       "      <th>2</th>\n",
       "      <td>14</td>\n",
       "      <td>WARDS POINT AVENUE</td>\n",
       "      <td>0</td>\n",
       "    </tr>\n",
       "    <tr>\n",
       "      <th>3</th>\n",
       "      <td>16</td>\n",
       "      <td>WARDS POINT AVENUE</td>\n",
       "      <td>0</td>\n",
       "    </tr>\n",
       "    <tr>\n",
       "      <th>4</th>\n",
       "      <td>17</td>\n",
       "      <td>SATTERLEE STREET</td>\n",
       "      <td>0</td>\n",
       "    </tr>\n",
       "    <tr>\n",
       "      <th>5</th>\n",
       "      <td>18</td>\n",
       "      <td>SATTERLEE STREET</td>\n",
       "      <td>0</td>\n",
       "    </tr>\n",
       "    <tr>\n",
       "      <th>6</th>\n",
       "      <td>18</td>\n",
       "      <td>SHORE ROAD</td>\n",
       "      <td>0</td>\n",
       "    </tr>\n",
       "    <tr>\n",
       "      <th>7</th>\n",
       "      <td>19</td>\n",
       "      <td>PERTH AMBOY PLACE</td>\n",
       "      <td>0</td>\n",
       "    </tr>\n",
       "    <tr>\n",
       "      <th>8</th>\n",
       "      <td>19</td>\n",
       "      <td>SATTERLEE STREET</td>\n",
       "      <td>0</td>\n",
       "    </tr>\n",
       "    <tr>\n",
       "      <th>9</th>\n",
       "      <td>21</td>\n",
       "      <td>AMBOY ROAD</td>\n",
       "      <td>0</td>\n",
       "    </tr>\n",
       "  </tbody>\n",
       "</table>\n",
       "</div>"
      ],
      "text/plain": [
       "   node              street  master\n",
       "0    13          SHORE ROAD       0\n",
       "1    14   PERTH AMBOY PLACE       0\n",
       "2    14  WARDS POINT AVENUE       0\n",
       "3    16  WARDS POINT AVENUE       0\n",
       "4    17    SATTERLEE STREET       0\n",
       "5    18    SATTERLEE STREET       0\n",
       "6    18          SHORE ROAD       0\n",
       "7    19   PERTH AMBOY PLACE       0\n",
       "8    19    SATTERLEE STREET       0\n",
       "9    21          AMBOY ROAD       0"
      ]
     },
     "execution_count": 9,
     "metadata": {},
     "output_type": "execute_result"
    }
   ],
   "source": [
    "query_to_table(db, \"select * from node_stnameFT limit 10\")"
   ]
  },
  {
   "cell_type": "markdown",
   "metadata": {
    "collapsed": true,
    "deletable": true,
    "editable": true
   },
   "source": [
    "# Part 2\n",
    "### Build data dictionaries"
   ]
  },
  {
   "cell_type": "code",
   "execution_count": 10,
   "metadata": {
    "collapsed": false,
    "deletable": true,
    "editable": true
   },
   "outputs": [
    {
     "name": "stdout",
     "output_type": "stream",
     "text": [
      "'node_names' 100.80 sec\n"
     ]
    }
   ],
   "source": [
    "def de_suffix(name):  # todo fix e as part of east example\n",
    "    \"\"\"cleans up street names for less percise matches\"\"\"\n",
    "    d = {' WEST': ' DIR', ' EAST': ' DIR',\n",
    "         ' SOUTH': ' DIR', ' NORTH': ' DIR',\n",
    "         ' EXIT': ' DIR', ' ENTRANCE': ' DIR',\n",
    "         ' APPROACH': ' DIR', ' NORTHBOUND': ' DIR',\n",
    "         ' SOUTHBOUND': ' DIR', ' EASTBOUND': ' DIR',\n",
    "         ' WESTBOUND': ' DIR'}  # new needs to be tested!!!!\n",
    "    for i in d:\n",
    "        if name not in ('WEST STREET', 'SOUTH STREET', 'NORTH STREET', 'EAST STREET',\n",
    "                        'WEST AVENUE', 'SOUTH AVENUE', 'NORTH AVENUE', 'EAST AVENUE',\n",
    "                        'WEST BOULEVARD', 'SOUTH BOULEVARD', 'NORTH BOULEVARD', 'EAST BOULEVARD',\n",
    "                        'WEST LOOP', 'SOUTH LOOP', 'NORTH LOOP', 'EAST LOOP',\n",
    "                        'WEST DRIVE', 'SOUTH DRIVE', 'NORTH DRIVE', 'EAST DRIVE',\n",
    "                        'WEST ROAD', 'SOUTH ROAD', 'NORTH ROAD', 'EAST ROAD',\n",
    "                        'JUNIPER BOULEVARD NORTH', 'JUNIPER BOULEVARD SOUTH'\n",
    "                        'PROSPECT PARK WEST', 'AVENUE N', 'AVENUE S', 'AVENUE E',\n",
    "                        'AVENUE W',):\n",
    "            name = name.replace(i, d[i])\n",
    "    return name \n",
    "    \n",
    "@timeDec\n",
    "def node_names(db, nodeStreetNames):\n",
    "    data = db.query(\"select * from node_stnameFT\")\n",
    "    for row in data[0]:\n",
    "        node, street = row[0], de_suffix(row[1])\n",
    "        if node not in nodeStreetNames.keys():\n",
    "            nodeStreetNames[node] = set([street])\n",
    "        else:\n",
    "            nodeStreetNames[node].add(street)\n",
    "    return nodeStreetNames\n",
    "\n",
    "params.nodeStreetNames = node_names(db, params.nodeStreetNames)"
   ]
  },
  {
   "cell_type": "code",
   "execution_count": 11,
   "metadata": {
    "collapsed": false,
    "deletable": true,
    "editable": true
   },
   "outputs": [
    {
     "name": "stdout",
     "output_type": "stream",
     "text": [
      "Update sucessfull\n",
      "Update sucessfull\n",
      "Update sucessfull\n",
      "Update sucessfull\n",
      "Update sucessfull\n",
      "Update sucessfull\n",
      "Update sucessfull\n",
      "'get_double_blocks' 22.97 sec\n",
      "DB updated\n",
      "Dictionary updated\n",
      "'intersection_binary' 61.05 sec\n"
     ]
    }
   ],
   "source": [
    "@timeDec\n",
    "def get_double_blocks(db, lion, node_table, highways=False):\n",
    "    # get problem nodes where the blocks involved have more than 1 street name\n",
    "    if highways:\n",
    "        h = '''and ((nonped = 'D' or nonped is null or (nonped = 'V' and street = 'PELHAM PARKWAY'))\n",
    "                or (nonped = 'V' and rb_layer in ('B', 'G')\n",
    "                and street = 'EAST FORDHAM ROAD'))'''  # ADD BACK IN PELHAM PKWY\n",
    "    else:\n",
    "        h = ''\n",
    "    db.query(\"\"\"drop table if exists doubles; \n",
    "                create table doubles as (\n",
    "                    select nf::int, nt::int, count(street)\n",
    "                    from (\n",
    "                        select  nodeidfrom as nf, nodeidto as nt, street\n",
    "                        from {0}\n",
    "                        where featuretyp in ('0', '6', 'C') and rb_layer in ('B','G') {1}\n",
    "                        and street != 'UNNAMED STREET' and street not like '%{2}%'\n",
    "                        group by  nodeidfrom, nodeidto, street\n",
    "                    union\n",
    "                        select  nodeidto as nf, nodeidfrom as nt, street\n",
    "                        from {0}\n",
    "                        where featuretyp in ('0', '6', 'C') and rb_layer in ('B','G') {1}\n",
    "                        and street != 'UNNAMED STREET' and street not like '%{2}%'\n",
    "                        group by  nodeidfrom, nodeidto, street\n",
    "                    ) as t\n",
    "                    group by nf, nt\n",
    "                    having count(street) > 1)\"\"\".format(lion, h, 'PED OVPS'))\n",
    "    \n",
    "    # then those nodes need to have > 2 streets to be an intersection. \n",
    "    db.query(\"\"\"create table temp_int as (\n",
    "                    select nodeid, is_int, count(*) as cnt from (\n",
    "                            select nodeid, is_int, street\n",
    "                            from (\n",
    "                                    select nodeid, is_int, street\n",
    "                                    from {0} \n",
    "                                    join {1} on st_dwithin({0}.geom, {1}.geom,1)\n",
    "                                    where featuretyp in ('0', '6', 'C') and rb_layer in ('B','G') {2}\n",
    "                                    and street != 'UNNAMED STREET' and street not like '%{3}%'\n",
    "                                    group by nodeid, is_int, street\n",
    "                            ) as base, \n",
    "                    doubles\n",
    "                    where nodeid = nf or nodeid = nt\n",
    "                            group by nodeid, is_int, street\n",
    "                    ) as grp group by nodeid, is_int\n",
    "                            having count(*) < 3\n",
    "                );\"\"\".format(node_table, lion, h, 'PED OVPS'))\n",
    "    # update revised nodes\n",
    "    db.query(\"\"\"update %s as n\n",
    "                    set is_int = Null\n",
    "                    from temp_int\n",
    "                    where n.nodeid =temp_int.nodeid\n",
    "                    and n.is_int = -1\n",
    "                    ;\"\"\" % node_table)\n",
    "    db.query(\"drop table temp_int; drop table doubles;\")\n",
    "\n",
    "@timeDec\n",
    "def intersection_binary(db, node_table, lion, nodeIsIntersection, highways=False):\n",
    "    \"\"\"Updates the is_int field in db\"\"\"\n",
    "    if highways:\n",
    "        db.query(\"\"\"create table temp_int as (\n",
    "                    select nodeid, is_int, count(*) as cnt\n",
    "                    from (\n",
    "                        select nodeid, is_int, street\n",
    "                        from {0} \n",
    "                        join {1} on st_dwithin({0}.geom, {1}.geom,1)\n",
    "                        where featuretyp in ('0', '6', 'C') and rb_layer in ('B','G') and \n",
    "                        (\n",
    "                            (\n",
    "                                nonped = 'D' or nonped is null or (nonped = 'V' and street = 'PELHAM PARKWAY')\n",
    "                                or (nonped = 'V' and rb_layer in ('B', 'G') and street = 'EAST FORDHAM ROAD')\n",
    "                            )\n",
    "                        )--for highway exclution\n",
    "                        and street != 'UNNAMED STREET' and street not like '%{2}%'\n",
    "                        group by nodeid, is_int, street\n",
    "                    ) as base\n",
    "                    group by nodeid, is_int\n",
    "                    having count(*) >1\n",
    "                );\"\"\".format(node_table, lion, 'PED OVPS'))\n",
    "    else:\n",
    "        db.query(\"\"\"create table temp_int as (\n",
    "                    select nodeid, is_int, count(*) as cnt\n",
    "                    from (\n",
    "                        select nodeid, is_int, street\n",
    "                        from {0} \n",
    "                        join {1} on st_dwithin({0}.geom, {1}.geom,1)\n",
    "                        where featuretyp in ('0', '6', 'C') and rb_layer in ('B','G')\n",
    "                        and street != 'UNNAMED STREET' and street not like '%{2}%'\n",
    "                        group by nodeid, is_int, street\n",
    "                    ) as base\n",
    "                    group by nodeid, is_int\n",
    "                    having count(*) >1\n",
    "                );\"\"\".format(node_table, lion, 'PED OVPS'))\n",
    "\n",
    "    db.query(\"update {0} set is_int = -1 from temp_int where {0}.nodeid=temp_int.nodeid;\".format(node_table))\n",
    "    db.query(\"drop table temp_int;\")\n",
    "\n",
    "\n",
    "    # fix locations with double segments...\n",
    "    get_double_blocks(db, lion, node_table, highways)  # 149.80 sec\n",
    "\n",
    "    print 'DB updated'\n",
    "    # get data from db into local dictionary\n",
    "    data = db.query(\"select nodeid, is_int from %s \" % node_table)  # where is_int =-1\n",
    "    for i in data[0]:\n",
    "        if i[1]:\n",
    "            nodeIsIntersection[int(i[0])] = True\n",
    "        else:\n",
    "            nodeIsIntersection[int(i[0])] = False\n",
    "    del data\n",
    "    print 'Dictionary updated'\n",
    "    return nodeIsIntersection\n",
    "\n",
    "params.nodeIsIntersection = intersection_binary(db, params.NODE, params.LION, params.nodeIsIntersection, params.HIGHWAYS)"
   ]
  },
  {
   "cell_type": "code",
   "execution_count": 12,
   "metadata": {
    "collapsed": false,
    "deletable": true,
    "editable": true
   },
   "outputs": [
    {
     "name": "stdout",
     "output_type": "stream",
     "text": [
      "Done with DB\n",
      "'graph' 198.38 sec\n"
     ]
    }
   ],
   "source": [
    "def add_to_graph(street, node1, node2, nodeNextSteps):\n",
    "    \"\"\"checks if segment is in the graph adds it if not\"\"\"\n",
    "    if node1 not in nodeNextSteps.keys():\n",
    "        nodeNextSteps[node1] = {street: set([node2])}\n",
    "    else:\n",
    "        if street not in nodeNextSteps[node1].keys():\n",
    "            nodeNextSteps[node1][street] = set([node2])\n",
    "        else:\n",
    "            nodeNextSteps[node1][street].add(node2)\n",
    "    return nodeNextSteps\n",
    "\n",
    "\n",
    "@timeDec\n",
    "def graph(db, lion, nodeNextSteps, highways=False):\n",
    "    \"\"\"Graph the street network\"\"\"\n",
    "    if highways:\n",
    "        segs = db.query(\"\"\"select street, segmentid, nodeidfrom, nodeidto \n",
    "                        from {0} \n",
    "                        where featuretyp in ('0', '6', 'C') and rb_layer in ('B','G') and\n",
    "                        ((nonped = 'D' or nonped is null or (nonped = 'V' and street = 'PELHAM PARKWAY'))\n",
    "                        or (nonped = 'V' and rb_layer in ('B', 'G') and street = 'EAST FORDHAM ROAD'))\n",
    "                        and street != 'UNNAMED STREET' and street not like '%{1}%'\n",
    "                    \"\"\".format(lion, 'PED OVPS'))\n",
    "    else:\n",
    "        segs = db.query(\"\"\"select street, segmentid, nodeidfrom, nodeidto \n",
    "                        from {0} \n",
    "                        where featuretyp in ('0', '6', 'C') and rb_layer in ('B','G')\n",
    "                        and street != 'UNNAMED STREET' and street not like '%{1}%'\n",
    "                    \"\"\".format(lion, 'PED OVPS'))\n",
    "\n",
    "    print 'Done with DB'\n",
    "    for row in segs[0]:\n",
    "        street, segmentid, nodeidfrom, nodeidto = row[0], row[1], int(row[2]), int(row[3])\n",
    "        nodeNextSteps = add_to_graph(street, nodeidfrom, nodeidto, nodeNextSteps)\n",
    "        nodeNextSteps = add_to_graph(street, nodeidto, nodeidfrom, nodeNextSteps)\n",
    "    del segs\n",
    "    return nodeNextSteps\n",
    "\n",
    "\n",
    "params.nodeNextSteps = graph(db, params.LION, params.nodeNextSteps, params.HIGHWAYS)  # 179.22 sec"
   ]
  },
  {
   "cell_type": "markdown",
   "metadata": {
    "deletable": true,
    "editable": true
   },
   "source": [
    "### Break point - save progress"
   ]
  },
  {
   "cell_type": "code",
   "execution_count": 13,
   "metadata": {
    "collapsed": false,
    "deletable": true,
    "editable": true
   },
   "outputs": [
    {
     "name": "stdout",
     "output_type": "stream",
     "text": [
      "'save_dictionaries' 2.45 sec\n"
     ]
    }
   ],
   "source": [
    "save_dictionaries('OUT')  # 19.72 sec\n",
    "# params.nodeStreetNames, params.nodeIsIntersection, params.nodeNextSteps, params.segmentBlocks, params.nodeMaster, params.clusterIntersections, params.streetSet, params.mft1Dict, params.altGraph, params.mfts, params.coordFromMaster = save_dictionaries('IN') #8.23 sec"
   ]
  },
  {
   "cell_type": "code",
   "execution_count": 4,
   "metadata": {
    "collapsed": false,
    "deletable": true,
    "editable": true
   },
   "outputs": [
    {
     "name": "stdout",
     "output_type": "stream",
     "text": [
      "'save_dictionaries' 1.95 sec\n"
     ]
    }
   ],
   "source": [
    "# run to read saved data back into memory \n",
    "\n",
    "params.nodeStreetNames, params.nodeIsIntersection, params.nodeNextSteps, params.segmentBlocks, params.nodeMaster, params.clusterIntersections, params.streetSet, params.mft1Dict, params.altGraph, params.mfts, params.coordFromMaster = save_dictionaries('IN') #8.23 se"
   ]
  },
  {
   "cell_type": "code",
   "execution_count": 5,
   "metadata": {
    "collapsed": false,
    "deletable": true,
    "editable": true
   },
   "outputs": [
    {
     "name": "stdout",
     "output_type": "stream",
     "text": [
      "'search' 0.59 sec\n",
      "\n",
      "nodeStreetNames(dict) sample: {52 : set(['CRAIG AVENUE', 'HYLAN BOULEVARD'])}\n"
     ]
    }
   ],
   "source": [
    "# simple graph search for grouping blocks\n",
    "\n",
    "def go_to_end(street, done, todo, nodeIsIntersection=params.nodeIsIntersection, nodeNextSteps=params.nodeNextSteps):\n",
    "    # anything left in the queue?\n",
    "    if len(todo) == 0:\n",
    "        # you're done exit\n",
    "        return done\n",
    "    else:\n",
    "        # get new starting point\n",
    "        start = todo.pop()\n",
    "        # add it to the visited nodes\n",
    "        done.append(start)\n",
    "        # make sure it is not an ending point\n",
    "        if not nodeIsIntersection[start]:\n",
    "            # see where we can go from here\n",
    "            for i in nodeNextSteps[start][street]:\n",
    "                # make sure we haven't done it yet\n",
    "                if i not in done:\n",
    "                    # add it to the queue\n",
    "                    todo.add(i)\n",
    "        return go_to_end(street, done, todo)\n",
    "    \n",
    "@timeDec\n",
    "def search(nodeStreetNames, streetSet, nodeIsIntersection, nodeNextSteps):\n",
    "    \"\"\"gets intersection to intersection segments or collection of segments\"\"\"\n",
    "    for startNode in nodeStreetNames.keys():\n",
    "        if nodeIsIntersection[startNode]:\n",
    "            for street in nodeNextSteps[startNode].keys():\n",
    "                queue = list(nodeNextSteps[startNode][street])\n",
    "                while len(queue) > 0:\n",
    "                    to_node = queue.pop()\n",
    "                    streetSet.append(go_to_end(street, [startNode], set([to_node])))\n",
    "    return nodeStreetNames, streetSet\n",
    "\n",
    "params.nodeStreetNames, params.streetSet = search(params.nodeStreetNames, params.streetSet, params.nodeIsIntersection, params.nodeNextSteps)\n",
    "\n",
    "print '\\nnodeStreetNames(dict) sample: {{{0} : {1}}}'.format(params.nodeStreetNames.keys()[50], \n",
    "                                                             params.nodeStreetNames[params.nodeStreetNames.keys()[50]])"
   ]
  },
  {
   "cell_type": "code",
   "execution_count": 6,
   "metadata": {
    "collapsed": true,
    "deletable": true,
    "editable": true
   },
   "outputs": [],
   "source": [
    "def write_csv(out_file, data_to_write, header=None):\n",
    "    row_cnt = 0\n",
    "    with open(out_file, 'wb') as csvfile:\n",
    "        writer = csv.writer(csvfile, delimiter=',')\n",
    "        if header:\n",
    "            writer.writerow(header)\n",
    "        for row in data_to_write:\n",
    "            writer.writerow(row)  # this writes the rows to the csv file row needs to be a list\n",
    "            row_cnt += 1\n",
    "    return str(row_cnt) + \" rows were written to \" + str(out_file)"
   ]
  },
  {
   "cell_type": "code",
   "execution_count": 7,
   "metadata": {
    "collapsed": false,
    "deletable": true,
    "editable": true
   },
   "outputs": [
    {
     "name": "stdout",
     "output_type": "stream",
     "text": [
      "Writing out csv\n",
      "\n",
      "Update sucessfull\n",
      "'mft_round1' 1328.75 sec\n",
      "\n",
      "altGraph(dict) sample: {51 : set(['HYLAN BOULEVARD', 'SATTERLEE STREET'])}\n"
     ]
    }
   ],
   "source": [
    "@timeDec\n",
    "def mft_round1(db, lion, altGraph, streetSet, mft1Dict, folder, highways=False):\n",
    "    \"\"\"gets simplest master segments based on from to nodes, intersections only\"\"\"\n",
    "    if highways:\n",
    "        sql = \"\"\"select segmentid, nodeidfrom, nodeidto\n",
    "                from {0} \n",
    "                where featuretyp in ('0', '6', 'C') and rb_layer in ('B','G')\n",
    "                and ((nonped = 'D' or nonped is null or (nonped = 'V' and street = 'PELHAM PARKWAY'))\n",
    "                or (nonped = 'V' and rb_layer in ('B', 'G') and street = 'EAST FORDHAM ROAD'))\n",
    "                and street != 'UNNAMED STREET' and street not like '%{1}%'\n",
    "                group by segmentid, nodeidfrom, nodeidto\"\"\".format(lion, 'PED OVPS')\n",
    "    else:\n",
    "        sql = \"\"\"select segmentid, nodeidfrom, nodeidto\n",
    "                from {0}  \n",
    "                where featuretyp in ('0', '6', 'C') and rb_layer in ('B','G')\n",
    "                and street != 'UNNAMED STREET' and street not like '%{1}%'\n",
    "                group by segmentid, nodeidfrom, nodeidto\"\"\".format(lion, 'PED OVPS')\n",
    "    data = db.query(sql)\n",
    "    # build local dict of seg node ids from-to to build mft\n",
    "    for row in data[0]:\n",
    "        # build up simple graph\n",
    "        # node : [[other node , segid], [other node , segid]]\n",
    "        segment, fromid, toid = row\n",
    "        if int(fromid) not in altGraph.keys():\n",
    "            altGraph[int(fromid)] = [[int(toid), segment]]\n",
    "        else:\n",
    "            altGraph[int(fromid)].append([int(toid), segment])\n",
    "\n",
    "        if int(toid) not in altGraph.keys():\n",
    "            altGraph[int(toid)] = [[int(fromid), segment]]\n",
    "        else:\n",
    "            altGraph[int(toid)].append([int(fromid), segment])\n",
    "    print 'done graphing\\n'\n",
    "    mft = 0\n",
    "    to_write_out = []\n",
    "    for block in streetSet:  # streetSet is a set of nodes that together make up a block\n",
    "        if block:\n",
    "            print mft\n",
    "            clear_output()\n",
    "            mft += 1\n",
    "            for node in block:\n",
    "                for pair in altGraph[node]:\n",
    "                    if pair[0] in block:  # both ends of the street are in the block\n",
    "                        if mft not in mft1Dict.keys():\n",
    "                            mft1Dict[mft] = []\n",
    "                        mft1Dict[mft].append(pair[1])\n",
    "                        to_write_out.append([mft, pair[1]])\n",
    "    print 'Writing out csv\\n'\n",
    "    write_csv(os.path.join(folder, \"mft.csv\"), to_write_out, ['mft', 'segment'])  \n",
    "    db.query('drop table if exists tempMaster; CREATE TABLE tempMaster (mft varchar(10), seg varchar(10))')\n",
    "    return altGraph\n",
    "\n",
    "params.altGraph = mft_round1(db,  params.LION, params.altGraph,  params.streetSet, params.mft1Dict, \n",
    "                             params.FOLDER, params.HIGHWAYS)  # 1367.67 sec\n",
    "\n",
    "print '\\naltGraph(dict) sample: {{{0} : {1}}}'.format(params.altGraph.keys()[50], \n",
    "                                                             params.nodeStreetNames[params.altGraph.keys()[50]])"
   ]
  },
  {
   "cell_type": "code",
   "execution_count": 8,
   "metadata": {
    "collapsed": false,
    "deletable": true,
    "editable": true
   },
   "outputs": [],
   "source": [
    "raw_input(\"\"\"PG Console \\n\\n \\copy tempMaster FROM '%s\\mft.csv' DELIMITERS ',' CSV HEADER;\\n\\nDone?\"\"\" % params.FOLDER)\n",
    "clear_output()"
   ]
  },
  {
   "cell_type": "code",
   "execution_count": 10,
   "metadata": {
    "collapsed": false,
    "deletable": true,
    "editable": true
   },
   "outputs": [
    {
     "name": "stdout",
     "output_type": "stream",
     "text": [
      "Update sucessfull\n",
      "Update sucessfull\n",
      "'add_temp_table' 135.45 sec\n"
     ]
    }
   ],
   "source": [
    "@timeDec\n",
    "def add_temp_table(db, lion):  # Assumes that tempMaster is imported\n",
    "    db.query(\"\"\"update %s as l\n",
    "                    set mft = t.mft::int\n",
    "                    from tempmaster as t\n",
    "                    where l.segmentid =t.seg\"\"\" % lion)\n",
    "    db.query(\"drop table tempmaster\")\n",
    "\n",
    "add_temp_table(db, params.LION)  # 35.44 sec"
   ]
  },
  {
   "cell_type": "code",
   "execution_count": 11,
   "metadata": {
    "collapsed": false,
    "deletable": true,
    "editable": true
   },
   "outputs": [
    {
     "name": "stdout",
     "output_type": "stream",
     "text": [
      "'save_dictionaries' 4.44 sec\n"
     ]
    }
   ],
   "source": [
    "save_dictionaries('OUT')  # 10.07 sec"
   ]
  },
  {
   "cell_type": "code",
   "execution_count": 12,
   "metadata": {
    "collapsed": false,
    "deletable": true,
    "editable": true
   },
   "outputs": [
    {
     "name": "stdout",
     "output_type": "stream",
     "text": [
      "'save_dictionaries' 4.78 sec\n"
     ]
    }
   ],
   "source": [
    "# run to read saved data back into memory \n",
    "\n",
    "params.nodeStreetNames, params.nodeIsIntersection, params.nodeNextSteps, params.segmentBlocks, params.nodeMaster, params.clusterIntersections, params.streetSet, params.mft1Dict, params.altGraph, params.mfts, params.coordFromMaster = save_dictionaries('IN') #8.23 se"
   ]
  },
  {
   "cell_type": "code",
   "execution_count": null,
   "metadata": {
    "collapsed": true,
    "deletable": true,
    "editable": true
   },
   "outputs": [],
   "source": []
  }
 ],
 "metadata": {
  "kernelspec": {
   "display_name": "Python 2",
   "language": "python",
   "name": "python2"
  },
  "language_info": {
   "codemirror_mode": {
    "name": "ipython",
    "version": 2
   },
   "file_extension": ".py",
   "mimetype": "text/x-python",
   "name": "python",
   "nbconvert_exporter": "python",
   "pygments_lexer": "ipython2",
   "version": "2.7.10"
  }
 },
 "nbformat": 4,
 "nbformat_minor": 2
}
